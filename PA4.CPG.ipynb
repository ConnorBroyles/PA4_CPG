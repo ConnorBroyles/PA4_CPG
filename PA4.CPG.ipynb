{
 "cells": [
  {
   "cell_type": "markdown",
   "id": "7fdd0e09",
   "metadata": {},
   "source": [
    "### i. Append()\n",
    "\n",
    "Append adds a single item to the desired list\n",
    "\n",
    "Example: "
   ]
  },
  {
   "cell_type": "code",
   "execution_count": 2,
   "id": "bcfd06bd",
   "metadata": {},
   "outputs": [
    {
     "name": "stdout",
     "output_type": "stream",
     "text": [
      "[1, 2, 3, 4, 44]\n"
     ]
    }
   ],
   "source": [
    "numbers = [1,2,3,4]\n",
    "numbers.append(44)\n",
    "print(numbers) "
   ]
  },
  {
   "cell_type": "markdown",
   "id": "26ab2b34",
   "metadata": {},
   "source": [
    "## ii. Extend()\n",
    "\n",
    "Extend adds elements to the end of a list. (A string will be a element per letter)\n",
    "\n",
    "Example:"
   ]
  },
  {
   "cell_type": "code",
   "execution_count": 4,
   "id": "8d15aec9",
   "metadata": {},
   "outputs": [
    {
     "name": "stdout",
     "output_type": "stream",
     "text": [
      "[1, 2, 3, 4, 44, 'H', 'e', 'l', 'l', 'o']\n"
     ]
    }
   ],
   "source": [
    "numbers.extend(\"Hello\")\n",
    "print(numbers)"
   ]
  },
  {
   "cell_type": "markdown",
   "id": "49da5ff4",
   "metadata": {},
   "source": [
    "## iii. Insert()\n",
    "\n",
    "Insert adds an element into a specific position in the list.\n",
    "\n",
    "Example:"
   ]
  },
  {
   "cell_type": "code",
   "execution_count": 5,
   "id": "14c7760c",
   "metadata": {},
   "outputs": [
    {
     "name": "stdout",
     "output_type": "stream",
     "text": [
      "[1, 2, 3, 4, '5', 44, 'H', 'e', 'l', 'l', 'o']\n"
     ]
    }
   ],
   "source": [
    "numbers.insert(4,\"5\")\n",
    "print(numbers)"
   ]
  },
  {
   "cell_type": "markdown",
   "id": "052b61b2",
   "metadata": {},
   "source": [
    "## iv. Remove()\n",
    "\n",
    "Remove takes away a certain element in the list.\n",
    "\n",
    "Example:"
   ]
  },
  {
   "cell_type": "code",
   "execution_count": 8,
   "id": "55463a28",
   "metadata": {},
   "outputs": [
    {
     "name": "stdout",
     "output_type": "stream",
     "text": [
      "[1, 2, 3, 4, '5', 44, 'e', 'l', 'l', 'o']\n"
     ]
    }
   ],
   "source": [
    "numbers.remove(\"H\")\n",
    "print(numbers)"
   ]
  },
  {
   "cell_type": "markdown",
   "id": "c391dd6c",
   "metadata": {},
   "source": [
    "## v. Count()\n",
    "\n",
    "Count function shows us how many times a value shows up in a list.\n",
    "\n",
    "Example:"
   ]
  },
  {
   "cell_type": "code",
   "execution_count": 12,
   "id": "06bbbe27",
   "metadata": {},
   "outputs": [
    {
     "data": {
      "text/plain": [
       "2"
      ]
     },
     "execution_count": 12,
     "metadata": {},
     "output_type": "execute_result"
    }
   ],
   "source": [
    "numbers.count(\"l\")"
   ]
  },
  {
   "cell_type": "markdown",
   "id": "23ca32ce",
   "metadata": {},
   "source": [
    "## vi. index()\n",
    "\n",
    "Index returns the specific index position of an item in a list or range.\n",
    "\n",
    "Example:"
   ]
  },
  {
   "cell_type": "code",
   "execution_count": 14,
   "id": "ef7aa03a",
   "metadata": {},
   "outputs": [
    {
     "data": {
      "text/plain": [
       "5"
      ]
     },
     "execution_count": 14,
     "metadata": {},
     "output_type": "execute_result"
    }
   ],
   "source": [
    "numbers.index(44)"
   ]
  },
  {
   "cell_type": "markdown",
   "id": "4dc93822",
   "metadata": {},
   "source": [
    "## vii. Pop()\n",
    "\n",
    "Pop allows you to remove an element from a position in a list.\n",
    "\n",
    "Example:"
   ]
  },
  {
   "cell_type": "code",
   "execution_count": 15,
   "id": "c21625c3",
   "metadata": {},
   "outputs": [
    {
     "name": "stdout",
     "output_type": "stream",
     "text": [
      "[1, 2, 3, 4, '5', 44, 'e', 'l', 'l', 'o']\n"
     ]
    }
   ],
   "source": [
    "print(numbers)"
   ]
  },
  {
   "cell_type": "code",
   "execution_count": 16,
   "id": "d4f0e5ef",
   "metadata": {},
   "outputs": [
    {
     "name": "stdout",
     "output_type": "stream",
     "text": [
      "[2, 3, 4, '5', 44, 'e', 'l', 'l', 'o']\n"
     ]
    }
   ],
   "source": [
    "numbers.pop(0)\n",
    "print(numbers)"
   ]
  },
  {
   "cell_type": "markdown",
   "id": "f73e1191",
   "metadata": {},
   "source": [
    "## viii. Sorted()\n",
    "\n",
    "Sorted allows for any list or tuple to be sorted in order.\n",
    "\n",
    "Example:"
   ]
  },
  {
   "cell_type": "code",
   "execution_count": 20,
   "id": "da3e2240",
   "metadata": {},
   "outputs": [
    {
     "name": "stdout",
     "output_type": "stream",
     "text": [
      "[1, 1, 5, 6, 7, 21, 25, 81]\n"
     ]
    }
   ],
   "source": [
    "sortdlist=[1,5,1,6,7,81,21,25]\n",
    "print(sorted(sortdlist))"
   ]
  },
  {
   "cell_type": "markdown",
   "id": "9286e39b",
   "metadata": {},
   "source": [
    "## ix. Copy()\n",
    "\n",
    "Copy allows you to copy in paste but in code, coppying a list and transfering it to another list variable that is identicle. \n",
    "\n",
    "Example: "
   ]
  },
  {
   "cell_type": "code",
   "execution_count": 29,
   "id": "44afa86e",
   "metadata": {},
   "outputs": [
    {
     "name": "stdout",
     "output_type": "stream",
     "text": [
      "['John', 'Connor', 'Kadin']\n"
     ]
    }
   ],
   "source": [
    "league=[\"John\",\"Connor\",\"Kadin\"]\n",
    "\n",
    "legends=league.copy()\n",
    "\n",
    "print(legends)"
   ]
  },
  {
   "cell_type": "markdown",
   "id": "6e806557",
   "metadata": {},
   "source": [
    "## x. Clear()\n",
    "\n",
    "Clear will clear a list (no matter the size)\n",
    "\n",
    "Example:"
   ]
  },
  {
   "cell_type": "code",
   "execution_count": 27,
   "id": "62ce7a4c",
   "metadata": {},
   "outputs": [
    {
     "name": "stdout",
     "output_type": "stream",
     "text": [
      "[]\n"
     ]
    }
   ],
   "source": [
    "clearedlistexample=[1,2,5,1,152,125,15,125,1,32,62,12,41,523,11,25,152,6,23]\n",
    "clearedlistexample.clear()\n",
    "print(clearedlistexample)"
   ]
  },
  {
   "cell_type": "markdown",
   "id": "7b866637",
   "metadata": {},
   "source": [
    "## xi. Any()\n",
    "\n",
    "Any returns True if any of the elements in a List or tuple are true or else it will return False\n",
    "\n",
    "Example:"
   ]
  },
  {
   "cell_type": "code",
   "execution_count": 28,
   "id": "0d5e59fa",
   "metadata": {},
   "outputs": [
    {
     "name": "stdout",
     "output_type": "stream",
     "text": [
      "True\n",
      "False\n"
     ]
    }
   ],
   "source": [
    "a=(4,1,5) #all true\n",
    "b=(0,0,0,False,False) #all false\n",
    "\n",
    "#if there is a mix it will print false\n",
    "#if there is a empty list or tuple or set it will also print false\n",
    "\n",
    "print(any(a))\n",
    "\n",
    "print(any(b))"
   ]
  },
  {
   "cell_type": "markdown",
   "id": "8ba3088e",
   "metadata": {},
   "source": [
    "## xii. Filter()\n",
    "\n",
    "Filter tests each element in the list to be true or false.\n",
    "\n",
    "Example:"
   ]
  },
  {
   "cell_type": "code",
   "execution_count": 35,
   "id": "034c2d59",
   "metadata": {},
   "outputs": [],
   "source": [
    "n=\"n\"\n",
    "connor=(\"C\",\"o\",\"n\",\"n\",\"o\",\"r\")\n",
    "goodman=filter(n, connor)"
   ]
  },
  {
   "cell_type": "markdown",
   "id": "ddcaa5e1",
   "metadata": {},
   "source": [
    "## xiii. List()\n",
    "\n",
    "List creates a list in python\n",
    "\n",
    "Example:"
   ]
  },
  {
   "cell_type": "code",
   "execution_count": 36,
   "id": "2290e795",
   "metadata": {},
   "outputs": [
    {
     "name": "stdout",
     "output_type": "stream",
     "text": [
      "['q', 'a', 'c']\n"
     ]
    }
   ],
   "source": [
    "q = list((\"q\",\"a\",\"c\"))\n",
    "print(q)"
   ]
  },
  {
   "cell_type": "markdown",
   "id": "6ebdfeaf",
   "metadata": {},
   "source": [
    "## xiv. Map()\n",
    "\n",
    "Map allows you to process all the items in an iterable without using an explicit \"for loop\".\n",
    "\n",
    "Example:"
   ]
  },
  {
   "cell_type": "code",
   "execution_count": 43,
   "id": "ce1dd234",
   "metadata": {},
   "outputs": [
    {
     "data": {
      "text/plain": [
       "[1, 4, 9, 16, 25]"
      ]
     },
     "execution_count": 43,
     "metadata": {},
     "output_type": "execute_result"
    }
   ],
   "source": [
    "def square(number):\n",
    "        return number ** 2\n",
    "   \n",
    "\n",
    "        test = [1, 2, 3, 4, 5]\n",
    "\n",
    "        squared = map(square, test)\n",
    "\n",
    "        list(squared)\n",
    "[1, 4, 9, 16, 25]"
   ]
  },
  {
   "cell_type": "markdown",
   "id": "bbc75010",
   "metadata": {},
   "source": [
    "## i. Cmp()\n",
    "\n",
    "Cmp simply compares two integers\n",
    "\n",
    "Example: "
   ]
  },
  {
   "cell_type": "code",
   "execution_count": 49,
   "id": "90e233b0",
   "metadata": {},
   "outputs": [
    {
     "name": "stdout",
     "output_type": "stream",
     "text": [
      "The cmp value for p>u is -1\n"
     ]
    }
   ],
   "source": [
    "def cmp(p, u):\n",
    "    return (p > u) - (p < u)\n",
    "p=1\n",
    "u=2\n",
    "\n",
    "print(\"The cmp value for p>u is\", cmp(p, u))"
   ]
  },
  {
   "cell_type": "markdown",
   "id": "67c51fbe",
   "metadata": {},
   "source": [
    "## ii. len()\n",
    "\n",
    "Len counts the length of the tuple\n",
    "\n",
    "Example:"
   ]
  },
  {
   "cell_type": "code",
   "execution_count": 51,
   "id": "c81bfe25",
   "metadata": {},
   "outputs": [
    {
     "name": "stdout",
     "output_type": "stream",
     "text": [
      "[2, 3, 4, '5', 44, 'e', 'l', 'l', 'o']\n"
     ]
    }
   ],
   "source": [
    "print(numbers)"
   ]
  },
  {
   "cell_type": "code",
   "execution_count": 50,
   "id": "b2ea45a1",
   "metadata": {},
   "outputs": [
    {
     "data": {
      "text/plain": [
       "9"
      ]
     },
     "execution_count": 50,
     "metadata": {},
     "output_type": "execute_result"
    }
   ],
   "source": [
    "len(numbers)"
   ]
  },
  {
   "cell_type": "markdown",
   "id": "659f7588",
   "metadata": {},
   "source": [
    "## iii. Max()\n",
    "\n",
    "Max displays the highest int in a tuple or list\n",
    "\n",
    "Example:"
   ]
  },
  {
   "cell_type": "code",
   "execution_count": 53,
   "id": "66641662",
   "metadata": {},
   "outputs": [
    {
     "data": {
      "text/plain": [
       "111111111"
      ]
     },
     "execution_count": 53,
     "metadata": {},
     "output_type": "execute_result"
    }
   ],
   "source": [
    "xam=[1,2,5,1,6,111111111]\n",
    "max(xam)"
   ]
  },
  {
   "cell_type": "markdown",
   "id": "26b7e32b",
   "metadata": {},
   "source": [
    "## iv. tuple(seq)\n",
    "\n",
    "Tuple(seq) creates a tuple!\n",
    "\n",
    "Example: "
   ]
  },
  {
   "cell_type": "code",
   "execution_count": 57,
   "id": "2c120ec5",
   "metadata": {},
   "outputs": [
    {
     "name": "stdout",
     "output_type": "stream",
     "text": [
      "('1',)\n"
     ]
    }
   ],
   "source": [
    "tup1=tuple(\"1\")\n",
    "print(tup1)"
   ]
  },
  {
   "cell_type": "code",
   "execution_count": null,
   "id": "98364d8d",
   "metadata": {},
   "outputs": [],
   "source": []
  }
 ],
 "metadata": {
  "kernelspec": {
   "display_name": "Python 3",
   "language": "python",
   "name": "python3"
  },
  "language_info": {
   "codemirror_mode": {
    "name": "ipython",
    "version": 3
   },
   "file_extension": ".py",
   "mimetype": "text/x-python",
   "name": "python",
   "nbconvert_exporter": "python",
   "pygments_lexer": "ipython3",
   "version": "3.8.8"
  }
 },
 "nbformat": 4,
 "nbformat_minor": 5
}
